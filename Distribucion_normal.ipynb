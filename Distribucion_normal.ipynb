{
 "cells": [
  {
   "cell_type": "code",
   "execution_count": 15,
   "id": "36bfac8c",
   "metadata": {},
   "outputs": [
    {
     "name": "stdout",
     "output_type": "stream",
     "text": [
      "Librerias Cargadas\n"
     ]
    }
   ],
   "source": [
    "import matplotlib.pyplot as plt\n",
    "from scipy.stats import norm\n",
    "print(\"Librerias Cargadas\")"
   ]
  },
  {
   "cell_type": "markdown",
   "id": "37f33d9d",
   "metadata": {},
   "source": [
    "<div id=menu></div>📘Menú Principal\n",
    "\n",
    "¡Bienvenido! Haz clic en el ejercicio al que quieras ir:\n",
    "\n",
    "---\n",
    "\n",
    "\n",
    "\n",
    "* [[Ejemplo 1]](#ej_1) \n",
    "* [[Ejemplo 2]](#ej_2)\n",
    "* [[Ejemplo 3]](#ej_3)\n",
    "* [[Ejemplo 4]](#ej_4)\n",
    "* [[Ejemplo 5]](#ej_5)\n",
    "* [[Ejemplo 6]](#ej_6)\n",
    "* [[Ejemplo 7]](#ej_7)\n",
    "* [[Ejemplo 8]](#ej_8)\n",
    "* [[Ejemplo 9]](#ej_9)\n",
    "*\n",
    "\n",
    "\n",
    "<!-- --- -->\n",
    "\n",
    "**Nota:** Puedes usar los enlaces de navegación al final de cada ejercicio para moverte o volver aquí."
   ]
  },
  {
   "cell_type": "markdown",
   "id": "71602545",
   "metadata": {},
   "source": [
    "---\n",
    " ## <div id=ej_1></div>Ejercicio 1\n",
    "---\n",
    "\n",
    "**Contexto del Problema:**  \n",
    "Un fabricante de pilas para linternas asegura que la duración de su producto sigue una distribución normal.\n",
    "\n",
    "**Parámetros de la Distribución:**\n",
    "- Duración media (μ) = 80 horas  \n",
    "- Varianza (σ²) = 16  \n",
    "- Desviación típica (σ) = √16 = 4 horas\n",
    "\n",
    "**Pregunta:**  \n",
    "Calcular la probabilidad de que una pila elegida al azar dure más de 90 horas.\n",
    "\n",
    "### Solución:\n",
    "\n",
    "1. **Definir la variable aleatoria:**  \n",
    "   Sea X la duración de la pila en horas. Se establece que `X ∼ N(μ = 80, σ = 4)`.\n",
    "\n",
    "2. **Tipificar el valor:**  \n",
    "   Para `X = 90` horas:  \n",
    "   `Z = (X - μ) / σ = (90 - 80) / 4 = 2.5`\n",
    "\n",
    "3. **Buscar la probabilidad en la tabla Z:**  \n",
    "   Se busca `P(X > 90)`, que equivale a `P(Z > 2.5)`.\n",
    "\n",
    "   Las tablas de distribución normal estándar proporcionan `P(Z ≤ z)`, por lo tanto:  \n",
    "   `P(Z > 2.5) = 1 - P(Z ≤ 2.5)`  \n",
    "   `P(Z ≤ 2.5) ≈ 0.9938`  \n",
    "   `P(X > 90) = 1 - 0.9938 = 0.0062`\n",
    "\n",
    "**Interpretación del Resultado:**  \n",
    "La probabilidad de que una pila dure más de 90 horas es de **0.0062**, o **0.62%**. Es un evento poco común.\n",
    "\n",
    "---\n",
    "\n",
    "[[Menú]](#menu) | [[Siguiente]](#ej_2)"
   ]
  },
  {
   "cell_type": "code",
   "execution_count": 3,
   "id": "eb730f08",
   "metadata": {},
   "outputs": [
    {
     "name": "stdout",
     "output_type": "stream",
     "text": [
      "Probabilidad de que una pila dure más de 90 horas: 0.0062\n"
     ]
    }
   ],
   "source": [
    "from scipy.stats import norm\n",
    "\n",
    "# Parámetros de la distribución\n",
    "mu = 80         # media en horas\n",
    "sigma = 4       # desviación estándar\n",
    "x = 90          # duración deseada\n",
    "\n",
    "# Calcular la probabilidad P(X > 90)\n",
    "p_mayor_90 = 1 - norm.cdf(x, mu, sigma)\n",
    "\n",
    "# Resultados\n",
    "print(f\"Probabilidad de que una pila dure más de 90 horas: {p_mayor_90:.4f}\")\n"
   ]
  },
  {
   "cell_type": "markdown",
   "id": "d4606729",
   "metadata": {},
   "source": [
    "---\n",
    "## <div id=ej_2></div>Ejercicio 2\n",
    "---\n",
    "\n",
    "Control de Calidad en Manufactura (Probabilidad dentro de un intervalo de aceptación)\n",
    "\n",
    "**Contexto del Problema:**  \n",
    "Una máquina produce tornillos cuya longitud sigue una distribución normal.\n",
    "\n",
    "**Parámetros de la Distribución:**\n",
    "- Media (μ) = 5 cm  \n",
    "- Desviación típica (σ) = 5 mm = 0.5 cm  \n",
    "- Criterio de descarte: tornillos que se desvíen ±0.6 cm de la media  \n",
    "- Lote: 500 tornillos\n",
    "\n",
    "**Pregunta:**  \n",
    "De un lote de 500 tornillos, ¿cuántos deben ser descartados?\n",
    "\n",
    "### Solución:\n",
    "\n",
    "1. **Intervalo de aceptación:**  \n",
    "   `(μ - 0.6, μ + 0.6) = (4.4 cm, 5.6 cm)`\n",
    "\n",
    "2. **Tipificación de los extremos:**  \n",
    "   - Para X₁ = 4.4: `Z₁ = (4.4 - 5) / 0.5 = -1.2`  \n",
    "   - Para X₂ = 5.6: `Z₂ = (5.6 - 5) / 0.5 = 1.2`\n",
    "\n",
    "3. **Probabilidad de aptitud:**  \n",
    "   `P(4.4 < X < 5.6) = P(-1.2 < Z < 1.2)`  \n",
    "   `P(Z ≤ 1.2) ≈ 0.8849`  \n",
    "   `P(-1.2 < Z < 1.2) = 2 * 0.8849 - 1 = 0.7698`\n",
    "\n",
    "4. **Probabilidad de descarte:**  \n",
    "   `1 - 0.7698 = 0.2302`\n",
    "\n",
    "5. **Cantidad esperada de tornillos descartados:**  \n",
    "   `0.2302 * 500 ≈ 115.1`\n",
    "\n",
    "**Interpretación del Resultado:**  \n",
    "Aproximadamente el **23.02%** de los tornillos serán descartados. En un lote de 500, se espera descartar entre **115 y 116** unidades.\n",
    "\n",
    "---\n",
    "\n",
    "[[Menú]](#menu) | [[Anterior]](#ej_1) | [[Siguiente]](#ej_3)"
   ]
  },
  {
   "cell_type": "markdown",
   "id": "c03f3a19",
   "metadata": {},
   "source": [
    "---\n",
    "## <div id=ej_3></div>\n",
    "Ejercicio 3\n",
    "---\n",
    "\n",
    "Análisis de Calificaciones Académicas (Determinación de notas de corte)\n",
    "\n",
    "**Contexto del Problema:**  \n",
    "Se presentan 2500 aspirantes a una prueba para 300 plazas. Las calificaciones siguen una distribución normal.\n",
    "\n",
    "**Parámetros de la Distribución:**\n",
    "- Media (μ) = 6.5  \n",
    "- Varianza (σ²) = 4 → σ = √4 = 2  \n",
    "- Aspirantes = 2500  \n",
    "- Plazas disponibles = 300\n",
    "\n",
    "**Pregunta:**  \n",
    "Calcular la nota de corte para los admitidos.\n",
    "\n",
    "### Solución:\n",
    "\n",
    "1. **Porcentaje de admitidos:**  \n",
    "   `(300 / 2500) * 100% = 12%`\n",
    "\n",
    "2. **Relación con la distribución normal:**  \n",
    "   `P(X ≥ X_corte) = 0.12` → `P(X < X_corte) = 0.88`\n",
    "\n",
    "3. **Buscar Z para P(Z ≤ z) = 0.88:**  \n",
    "   `Z ≈ 1.175` (interpolando en tabla Z)\n",
    "\n",
    "4. **Despejar X_corte:**  \n",
    "   `X_corte = μ + Z * σ = 6.5 + (1.175 * 2) = 8.85`\n",
    "\n",
    "**Interpretación del Resultado:**  \n",
    "La nota de corte para ser admitido es aproximadamente **8.85**. Solo los que obtengan **≥ 8.85** serán seleccionados.\n",
    "\n",
    "---\n",
    "\n",
    "[[Menú]](#menu) | [[Anterior]](#ej_2) | [[Siguiente]](#ej_4)"
   ]
  },
  {
   "cell_type": "code",
   "execution_count": 4,
   "id": "97b62d87",
   "metadata": {},
   "outputs": [
    {
     "name": "stdout",
     "output_type": "stream",
     "text": [
      "Z correspondiente al percentil 88%: 1.1750\n",
      "Nota mínima para ser admitido: 8.85\n"
     ]
    }
   ],
   "source": [
    "from scipy.stats import norm\n",
    "\n",
    "# Parámetros\n",
    "mu = 6.5         # media de las calificaciones\n",
    "sigma = 2        # desviación estándar\n",
    "total_aspirantes = 2500\n",
    "plazas = 300\n",
    "\n",
    "# Proporción de admitidos (top 12%)\n",
    "p_superior = plazas / total_aspirantes  # 0.12\n",
    "p_corte = 1 - p_superior                # acumulada inferior: 0.88\n",
    "\n",
    "# Encontrar el Z tal que P(Z ≤ z) = 0.88\n",
    "z_corte = norm.ppf(p_corte)\n",
    "\n",
    "# Convertir Z a calificación\n",
    "nota_corte = mu + z_corte * sigma\n",
    "\n",
    "# Resultados\n",
    "print(f\"Z correspondiente al percentil 88%: {z_corte:.4f}\")\n",
    "print(f\"Nota mínima para ser admitido: {nota_corte:.2f}\")\n"
   ]
  },
  {
   "cell_type": "markdown",
   "id": "4ee97a8c",
   "metadata": {},
   "source": [
    "# Referencias\n",
    "\n",
    "### Para los Ejemplos 1, 2 y 3 :\n",
    "\n",
    "- Walpole, R. E., Myers, R. H., Myers, S. L., & Ye, K. (s.f.). *Probabilidad y estadística para ingeniería y ciencias*. [Información de editorial no disponible].\n",
    "\n",
    "- Meyer, P. L. (s.f.). *Probabilidad y aplicaciones estadísticas*. [Información de editorial no disponible].\n",
    "\n",
    "- Spiegel, M. R. (s.f.). *Probabilidad y estadística: Schaums (Serie)*. [Información de editorial no disponible].\n",
    "\n",
    "- solucionarios10.com. (s.f.). [Título específico y fecha de acceso no disponibles]. [Fuente web sin más datos].\n",
    "\n",
    "---\n",
    "\n",
    "### Para el Ejemplo 3 :\n",
    "\n",
    "- Meyer, P. L. (s.f.). *Probabilidad y aplicaciones estadísticas*. [Información de editorial no disponible].\n",
    "\n",
    "- Rumsey, D. J. (s.f.). *Estadística para Dummies / Estadística II para Dummies*. [Información de editorial no disponible].\n",
    "\n",
    "- Gonick, L., & Smith, W. (s.f.). *La estadística en cómic*. [Información de editorial no disponible].\n",
    "\n",
    "- PROBLEMAS DE DISTRIBUCIÓN NORMAL Y INTERVALOS DE CONFIANZA. (s.f.). *Matemáticas aplicadas a las CC. Sociales II*. [Autor, editorial y año no disponibles].\n"
   ]
  },
  {
   "cell_type": "markdown",
   "id": "973e510d",
   "metadata": {},
   "source": [
    "---\n",
    "## <div id=ej_4></div>\n",
    "Ejercicio 4\n",
    "---\n",
    "\n",
    "En una ciudad una de cada tres familias posse teléfono. Si se eligen al azar 90 familias, calcular la probabilidad de que entre ellas haya por lo menos 30 tengan teléfono.\n",
    "\n",
    "---\n",
    "\n",
    "[[Menú]](#menu) | [[Anterior]](#ej_3) | [[Siguiente]](#ej_5)"
   ]
  },
  {
   "cell_type": "code",
   "execution_count": 7,
   "id": "19a3aaab",
   "metadata": {},
   "outputs": [
    {
     "name": "stdout",
     "output_type": "stream",
     "text": [
      "Probabilidad: 50%\n"
     ]
    }
   ],
   "source": [
    "from scipy.stats import norm\n",
    "\n",
    "# Parámetros\n",
    "n = 90\n",
    "p = 1/3\n",
    "mu = n * p  # 30\n",
    "sigma = (n * p * (1 - p)) ** 0.5  # ≈4.472\n",
    "\n",
    "\n",
    "z = (30 - mu) / sigma  # = (30 - 30)/4.472 = 0\n",
    "prob = 1 - norm.cdf(z)  # P(Z ≥ 0) = 0.5 (50%)\n",
    "\n",
    "print(f\"Probabilidad: {prob * 100:.0f}%\")"
   ]
  },
  {
   "cell_type": "markdown",
   "id": "71762ef4",
   "metadata": {},
   "source": [
    "---\n",
    "## <div id=ej_5></div>\n",
    "Ejercicio 5\n",
    "---\n",
    "\n",
    "En un examen tipo test de 200 preguntas de eleción múltiple, cada pregunta tiene una resouesta correct y una incorrecta, Se aprueba si se contesta a más de 110 respuestas correctas. Suponiendo que se contesta al azar, calcular la probabilidad de aprobar el examen.\n",
    "\n",
    "---\n",
    "\n",
    "[[Menú]](#menu) | [[Anterior]](#ej_4) | [[Siguiente]](#ej_6)"
   ]
  },
  {
   "cell_type": "code",
   "execution_count": 9,
   "id": "02b0e4e4",
   "metadata": {},
   "outputs": [
    {
     "name": "stdout",
     "output_type": "stream",
     "text": [
      "----- Probabilidad de aprobar contestando al azar -----\n",
      "• Probabilidad: 7.86% (sobreestima)\n"
     ]
    }
   ],
   "source": [
    "from scipy.stats import norm, binom\n",
    "\n",
    "# Parámetros\n",
    "n = 200          # Número de preguntas\n",
    "p = 0.5          # Probabilidad de acertar al azar\n",
    "mu = n * p       # Media = 100\n",
    "sigma = (n * p * (1 - p)) ** 0.5  # Desviación estándar ≈7.071\n",
    "\n",
    " # distribución normal (P(X > 110))\n",
    "z_sin_correccion = (110 - mu) / sigma\n",
    "prob_sin_correccion = 1 - norm.cdf(z_sin_correccion)\n",
    "\n",
    "# Resultados\n",
    "print(\"----- Probabilidad de aprobar contestando al azar -----\")\n",
    "print(f\"• Probabilidad: {prob_sin_correccion * 100:.2f}% (sobreestima)\")"
   ]
  },
  {
   "cell_type": "markdown",
   "id": "fa0c5225",
   "metadata": {},
   "source": [
    "---\n",
    "## <div id=ej_6></div>\n",
    "Ejercicio 6\n",
    "---\n",
    "\n",
    " Un estudio ha mostrado que un cierto barrio, el 60% de los hogares tienen al menos dos televisores, se elige al azar una muestra de 50 hogares en el citado barrio, se pide:\n",
    "\n",
    "---\n",
    "\n",
    "[[Menú]](#menu) | [[Anterior]](#ej_5) | [[Siguiente]](#ej_7)"
   ]
  },
  {
   "cell_type": "markdown",
   "id": "17560576",
   "metadata": {},
   "source": [
    "¿Cuál es la probabilidad de que al menos 20 de los citados hogares tengan cuando menos dos televisores?"
   ]
  },
  {
   "cell_type": "code",
   "execution_count": 10,
   "id": "087242a2",
   "metadata": {},
   "outputs": [
    {
     "name": "stdout",
     "output_type": "stream",
     "text": [
      "Probabilidad : 99.81%\n"
     ]
    }
   ],
   "source": [
    "from scipy.stats import norm\n",
    "\n",
    "# Parámetros\n",
    "n = 50\n",
    "p = 0.6\n",
    "mu = n * p  # 30\n",
    "sigma = (n * p * (1 - p)) ** 0.5  # ≈3.464\n",
    "\n",
    "# Distribucion normal(P(X >= 20) ≈ P(X_normal >= 20))\n",
    "z = (20 - mu) / sigma  # ≈(20 - 30)/3.464 ≈ -2.887\n",
    "prob = 1 - norm.cdf(z)  # P(Z >= -2.887) ≈ 99.81%\n",
    "\n",
    "print(f\"Probabilidad : {prob * 100:.2f}%\")"
   ]
  },
  {
   "cell_type": "markdown",
   "id": "0517d464",
   "metadata": {},
   "source": [
    "¿Cuál es la probabilidad de que entre 35 y 40 hogares tengan cuando menos dos televisores?"
   ]
  },
  {
   "cell_type": "code",
   "execution_count": 11,
   "id": "42cb6c3b",
   "metadata": {},
   "outputs": [
    {
     "name": "stdout",
     "output_type": "stream",
     "text": [
      "Probabilidad : 7.3%\n"
     ]
    }
   ],
   "source": [
    "from scipy.stats import norm\n",
    "\n",
    "# Parámetros\n",
    "n = 50\n",
    "p = 0.6\n",
    "mu = n * p  # 30\n",
    "sigma = (n * p * (1 - p)) ** 0.5  # ≈3.464\n",
    "\n",
    "# Distribución normal (P(35 <= X <= 40) ≈ P(35 <= X_normal <= 40))\n",
    "z_lower = (35 - mu) / sigma  # ≈1.44\n",
    "z_upper = (40 - mu) / sigma  # ≈2.89\n",
    "prob = norm.cdf(z_upper) - norm.cdf(z_lower)\n",
    "\n",
    "print(f\"Probabilidad : {prob * 100:.1f}%\")"
   ]
  },
  {
   "cell_type": "markdown",
   "id": "9f13e57c",
   "metadata": {},
   "source": [
    "---\n",
    "## <div id=ej_7></div>\n",
    "Ejercicio 7\n",
    "---\n",
    "\n",
    "Un cierto tipo de batería tiene una duración promedio de **3.0 años** con una desviación estándar de **0.5 años**.  \n",
    "Suponiendo que la duración se distribuye normalmente, ¿cuál es la probabilidad de que una batería dure **menos de 2.3 años**?\n",
    "\n",
    "---\n",
    "\n",
    "**Parámetros:**\n",
    "\n",
    "- Media: ( $mu = 3.0 $)\n",
    "- Desviación estándar: ( $sigma = 0.5 $)\n",
    "- Valor: ($ x = 2.3 $)\n",
    "\n",
    "---\n",
    "\n",
    "**Cálculo del valor Z:**\n",
    "\n",
    "$$\n",
    "z = \\frac{x - \\mu}{\\sigma} = \\frac{2.3 - 3.0}{0.5} = -1.4\n",
    "$$\n",
    "\n",
    "Buscamos en la tabla de la normal estándar:\n",
    "\n",
    "$$\n",
    "P(X < 2.3) = P(Z < -1.4) = 0.0808\n",
    "$$\n",
    "\n",
    "---\n",
    "\n",
    "✅ **Resultado**: Hay un **8.08%** de probabilidad de que una batería dure menos de 2.3 años.\n",
    "\n",
    "---\n",
    "\n",
    "[[Menú]](#menu) | [[Anterior]](#ej_6) | [[Siguiente]](#ej_8)"
   ]
  },
  {
   "cell_type": "markdown",
   "id": "9a8c71b3",
   "metadata": {},
   "source": [
    "Ejercicio 7: Ejemplo 6.7 - Pag 182"
   ]
  },
  {
   "cell_type": "code",
   "execution_count": 12,
   "id": "124c2766",
   "metadata": {},
   "outputs": [
    {
     "name": "stdout",
     "output_type": "stream",
     "text": [
      "Z = -1.4000000000000004\n",
      "Probabilidad de que dure menos de 2.3 años: 0.08075665923377101\n"
     ]
    }
   ],
   "source": [
    "from scipy.stats import norm\n",
    "\n",
    "# Datos del ejercicio\n",
    "media = 3.0\n",
    "desviacion = 0.5\n",
    "x = 2.3\n",
    "\n",
    "# Cálculo del valor Z\n",
    "z = (x - media) / desviacion\n",
    "print(\"Z =\", z)\n",
    "\n",
    "# Probabilidad de que X < 2.3\n",
    "probabilidad = norm.cdf(z)\n",
    "print(\"Probabilidad de que dure menos de 2.3 años:\", probabilidad)\n"
   ]
  },
  {
   "cell_type": "markdown",
   "id": "3d90331f",
   "metadata": {},
   "source": [
    "---\n",
    "## <div id=ej_8></div>\n",
    "Ejercicio 8\n",
    "---\n",
    "\n",
    "Una empresa fabrica bombillas cuya duración, antes de quemarse, se distribuye normalmente con una media de **800 horas** y una desviación estándar de **40 horas**.  \n",
    "¿Cuál es la probabilidad de que una bombilla se queme entre **778 y 834 horas**?\n",
    "\n",
    "---\n",
    "\n",
    "**Parámetros:**\n",
    "\n",
    "- ( $mu = 800 $), ( $sigma = 40 $)\n",
    "- Intervalo: ( $x_1 = 778 $), ($ x_2 = 834 $)\n",
    "\n",
    "---\n",
    "\n",
    "**Cálculo de valores Z:**\n",
    "\n",
    "$$\n",
    "z_1 = \\frac{778 - 800}{40} = -0.55 \\\\ \n",
    "z_2 = \\frac{834 - 800}{40} = 0.85\n",
    "$$\n",
    "\n",
    "---\n",
    "\n",
    "**Probabilidad entre dos valores:**\n",
    "\n",
    "$$\n",
    "P(778 < X < 834) = P(-0.55 < Z < 0.85) = P(Z < 0.85) - P(Z < -0.55)\n",
    "$$\n",
    "\n",
    "Buscando en la tabla:\n",
    "\n",
    "$$\n",
    "P(Z < 0.85) = 0.8023 \\quad \\text{y} \\quad P(Z < -0.55) = 0.2912\n",
    "$$\n",
    "\n",
    "$$\n",
    "P = 0.8023 - 0.2912 = 0.5111\n",
    "$$\n",
    "\n",
    "---\n",
    "\n",
    "✅ **Resultado**: Hay una **51.11%** de probabilidad de que una bombilla se queme entre 778 y 834 horas.\n",
    "\n",
    "---\n",
    "\n",
    "[[Menú]](#menu) | [[Anterior]](#ej_7) | [[Siguiente]](#ej_9)"
   ]
  },
  {
   "cell_type": "code",
   "execution_count": 13,
   "id": "78c7a53d",
   "metadata": {},
   "outputs": [
    {
     "name": "stdout",
     "output_type": "stream",
     "text": [
      "Z1 = -0.55\n",
      "Z2 = 0.85\n",
      "Probabilidad de que dure entre 778 y 834 horas: 0.5111777700889613\n"
     ]
    }
   ],
   "source": [
    "from scipy.stats import norm\n",
    "\n",
    "# Datos del ejercicio\n",
    "media = 800\n",
    "desviacion = 40\n",
    "x1 = 778\n",
    "x2 = 834\n",
    "\n",
    "# Cálculo de los valores Z\n",
    "z1 = (x1 - media) / desviacion\n",
    "z2 = (x2 - media) / desviacion\n",
    "print(\"Z1 =\", z1)\n",
    "print(\"Z2 =\", z2)\n",
    "\n",
    "# Probabilidad entre los dos valores\n",
    "p1 = norm.cdf(z1)\n",
    "p2 = norm.cdf(z2)\n",
    "probabilidad = p2 - p1\n",
    "print(\"Probabilidad de que dure entre 778 y 834 horas:\", probabilidad)\n"
   ]
  },
  {
   "cell_type": "markdown",
   "id": "dc1ca48f",
   "metadata": {},
   "source": [
    "Ejercicio 8: Ejemplo 6.8 - Pag 182"
   ]
  },
  {
   "cell_type": "markdown",
   "id": "5b60d93b",
   "metadata": {},
   "source": [
    "---\n",
    "## <div id=ej_9></div>\n",
    "Ejercicio 9\n",
    "---\n",
    "\n",
    "**Enunciado:**  \n",
    "Cierta máquina fabrica resistencias eléctricas que tienen una resistencia media de 40 ohms y una desviación estándar de 2 ohms. Si se supone que la resistencia sigue una distribución normal y que se puede medir con cualquier grado de precisión, ¿qué porcentaje de resistencias tendrán una resistencia que exceda 43 ohms?\n",
    "\n",
    "---\n",
    "\n",
    "**Solución:**\n",
    "\n",
    "Queremos calcular la probabilidad de que una resistencia exceda los 43 ohms, es decir:\n",
    "\n",
    "$$\n",
    "P(X > 43)\n",
    "$$\n",
    "\n",
    "Primero, transformamos el valor observado \\( x = 43 \\) en su correspondiente valor \\( z \\) utilizando la fórmula:\n",
    "\n",
    "$$\n",
    "z = \\frac{x - \\mu}{\\sigma} = \\frac{43 - 40}{2} = 1.5\n",
    "$$\n",
    "\n",
    "Buscamos el área bajo la curva normal estándar a la derecha de \\( z = 1.5 \\). Esta área se obtiene como:\n",
    "\n",
    "$$\n",
    "P(Z > 1.5) = 1 - P(Z < 1.5)\n",
    "$$\n",
    "\n",
    "Usando la tabla de la distribución normal:\n",
    "\n",
    "$$\n",
    "P(Z < 1.5) = 0.9332\n",
    "$$\n",
    "\n",
    "Entonces:\n",
    "\n",
    "$$\n",
    "P(Z > 1.5) = 1 - 0.9332 = 0.0668\n",
    "$$\n",
    "\n",
    "---\n",
    "\n",
    "✅ **Resultado:**  \n",
    "El **6.68%** de las resistencias tendrán una resistencia que exceda los 43 ohms.\n",
    "\n",
    "\n",
    "---\n",
    "\n",
    "[[Menú]](#menu) | [[Anterior]](#ej_8) "
   ]
  },
  {
   "cell_type": "code",
   "execution_count": 14,
   "id": "9c55f3ae",
   "metadata": {},
   "outputs": [
    {
     "name": "stdout",
     "output_type": "stream",
     "text": [
      "Z = 1.5\n",
      "Probabilidad de que la resistencia sea mayor a 43 ohms: 0.06680720126885809\n"
     ]
    }
   ],
   "source": [
    "from scipy.stats import norm\n",
    "\n",
    "# Datos del ejercicio\n",
    "media = 40\n",
    "desviacion = 2\n",
    "x = 43\n",
    "\n",
    "# Cálculo del valor Z\n",
    "z = (x - media) / desviacion\n",
    "print(\"Z =\", z)\n",
    "\n",
    "# Probabilidad de que X > 43\n",
    "p_menor = norm.cdf(z)\n",
    "p_mayor = 1 - p_menor\n",
    "print(\"Probabilidad de que la resistencia sea mayor a 43 ohms:\", p_mayor)\n"
   ]
  },
  {
   "cell_type": "markdown",
   "id": "1de8e7b1",
   "metadata": {},
   "source": [
    "Ejercicio 9: Ejemplo 6.11 . Pag 184"
   ]
  },
  {
   "cell_type": "markdown",
   "id": "535f67e9",
   "metadata": {},
   "source": [
    "---\n",
    "📚 **Fuente de los ejercicios:**  \n",
    "Walpole, R. E., Myers, R. H., Myers, S. L., & Ye, K. (2012). *Probabilidad y estadística para ingeniería y ciencias* (9.ª ed.). Pearson Educación.  \n",
    "Traducción: Leticia Esther Pineda Ayala  \n",
    "Revisión técnica: Roberto Hernández Ramírez y Linda Margarita Medina Herrera\n"
   ]
  }
 ],
 "metadata": {
  "kernelspec": {
   "display_name": "Python 3",
   "language": "python",
   "name": "python3"
  },
  "language_info": {
   "codemirror_mode": {
    "name": "ipython",
    "version": 3
   },
   "file_extension": ".py",
   "mimetype": "text/x-python",
   "name": "python",
   "nbconvert_exporter": "python",
   "pygments_lexer": "ipython3",
   "version": "3.13.undefined"
  }
 },
 "nbformat": 4,
 "nbformat_minor": 5
}
