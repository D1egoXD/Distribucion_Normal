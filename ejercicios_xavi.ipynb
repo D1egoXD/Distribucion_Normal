{
 "cells": [
  {
   "cell_type": "markdown",
   "id": "5d0a5fe3",
   "metadata": {},
   "source": [
    "## DISTRIBUCIÓN NORMAL - XAVIER"
   ]
  },
  {
   "cell_type": "markdown",
   "id": "4daf9d20",
   "metadata": {},
   "source": [
    "<!-- Menú principal -->\n",
    "<div id=menu></div>\n",
    "\n",
    "[[Ejemplo 1: Duración de baterías]](#ej_1) | [[Ejemplo 2: Duración de bombillas]](#ej_2) | [[Ejemplo 3: Porcentaje de resistencias que exceden cierto valor]](#ej_3)\n"
   ]
  },
  {
   "cell_type": "markdown",
   "id": "ef6f47ec",
   "metadata": {},
   "source": [
    "<!-- Ejemplo 1 -->\n",
    "<div id=ej_1></div>\n",
    "\n",
    "<span style=\"color: #153CEE;\">[1] Duración de baterías</span>  \n",
    "\n",
    "Un cierto tipo de batería tiene una duración promedio de **3.0 años** con una desviación estándar de **0.5 años**.  \n",
    "Suponiendo que la duración se distribuye normalmente, ¿cuál es la probabilidad de que una batería dure **menos de 2.3 años**?\n",
    "\n",
    "---\n",
    "\n",
    "**Parámetros:**\n",
    "\n",
    "- Media: \\( \\mu = 3.0 \\)\n",
    "- Desviación estándar: \\( \\sigma = 0.5 \\)\n",
    "- Valor: \\( x = 2.3 \\)\n",
    "\n",
    "---\n",
    "\n",
    "**Cálculo del valor Z:**\n",
    "\n",
    "$$\n",
    "z = \\frac{x - \\mu}{\\sigma} = \\frac{2.3 - 3.0}{0.5} = -1.4\n",
    "$$\n",
    "\n",
    "Buscamos en la tabla de la normal estándar:\n",
    "\n",
    "$$\n",
    "P(X < 2.3) = P(Z < -1.4) = 0.0808\n",
    "$$\n",
    "\n",
    "---\n",
    "\n",
    "✅ **Resultado**: Hay un **8.08%** de probabilidad de que una batería dure menos de 2.3 años.\n",
    "\n",
    "[[Menú]](#menu) | [[Siguiente]](#ej_2)\n"
   ]
  },
  {
   "cell_type": "markdown",
   "id": "8fe8dbcb",
   "metadata": {},
   "source": [
    "**Codigo:**"
   ]
  },
  {
   "cell_type": "code",
   "execution_count": 5,
   "id": "f9ad1064",
   "metadata": {},
   "outputs": [
    {
     "name": "stdout",
     "output_type": "stream",
     "text": [
      "Z = -1.4000000000000004\n",
      "Probabilidad de que dure menos de 2.3 años: 0.08075665923377101\n"
     ]
    }
   ],
   "source": [
    "from scipy.stats import norm\n",
    "\n",
    "# Datos del ejercicio\n",
    "media = 3.0\n",
    "desviacion = 0.5\n",
    "x = 2.3\n",
    "\n",
    "# Cálculo del valor Z\n",
    "z = (x - media) / desviacion\n",
    "print(\"Z =\", z)\n",
    "\n",
    "# Probabilidad de que X < 2.3\n",
    "probabilidad = norm.cdf(z)\n",
    "print(\"Probabilidad de que dure menos de 2.3 años:\", probabilidad)\n"
   ]
  },
  {
   "cell_type": "markdown",
   "id": "47986f94",
   "metadata": {},
   "source": [
    "<!-- Ejemplo 2 -->\n",
    "<div id=ej_2></div>\n",
    "\n",
    "<span style=\"color: #153CEE;\">[2] Duración de bombillas</span>  \n",
    "\n",
    "Una empresa fabrica bombillas cuya duración, antes de quemarse, se distribuye normalmente con una media de **800 horas** y una desviación estándar de **40 horas**.  \n",
    "¿Cuál es la probabilidad de que una bombilla se queme entre **778 y 834 horas**?\n",
    "\n",
    "---\n",
    "\n",
    "**Parámetros:**\n",
    "\n",
    "- \\( \\mu = 800 \\), \\( \\sigma = 40 \\)\n",
    "- Intervalo: \\( x_1 = 778 \\), \\( x_2 = 834 \\)\n",
    "\n",
    "---\n",
    "\n",
    "**Cálculo de valores Z:**\n",
    "\n",
    "$$\n",
    "z_1 = \\frac{778 - 800}{40} = -0.55 \\\\ \n",
    "z_2 = \\frac{834 - 800}{40} = 0.85\n",
    "$$\n",
    "\n",
    "---\n",
    "\n",
    "**Probabilidad entre dos valores:**\n",
    "\n",
    "$$\n",
    "P(778 < X < 834) = P(-0.55 < Z < 0.85) = P(Z < 0.85) - P(Z < -0.55)\n",
    "$$\n",
    "\n",
    "Buscando en la tabla:\n",
    "\n",
    "$$\n",
    "P(Z < 0.85) = 0.8023 \\quad \\text{y} \\quad P(Z < -0.55) = 0.2912\n",
    "$$\n",
    "\n",
    "$$\n",
    "P = 0.8023 - 0.2912 = 0.5111\n",
    "$$\n",
    "\n",
    "---\n",
    "\n",
    "✅ **Resultado**: Hay una **51.11%** de probabilidad de que una bombilla se queme entre 778 y 834 horas.\n",
    "\n",
    "[[Menú]](#menu) | [[Anterior]](#ej_1) | [[Siguiente]](#ej_3)\n"
   ]
  },
  {
   "cell_type": "markdown",
   "id": "6c76e481",
   "metadata": {},
   "source": [
    "**Codigo:**"
   ]
  },
  {
   "cell_type": "code",
   "execution_count": 6,
   "id": "60f78faa",
   "metadata": {},
   "outputs": [
    {
     "name": "stdout",
     "output_type": "stream",
     "text": [
      "Z1 = -0.55\n",
      "Z2 = 0.85\n",
      "Probabilidad de que dure entre 778 y 834 horas: 0.5111777700889613\n"
     ]
    }
   ],
   "source": [
    "from scipy.stats import norm\n",
    "\n",
    "# Datos del ejercicio\n",
    "media = 800\n",
    "desviacion = 40\n",
    "x1 = 778\n",
    "x2 = 834\n",
    "\n",
    "# Cálculo de los valores Z\n",
    "z1 = (x1 - media) / desviacion\n",
    "z2 = (x2 - media) / desviacion\n",
    "print(\"Z1 =\", z1)\n",
    "print(\"Z2 =\", z2)\n",
    "\n",
    "# Probabilidad entre los dos valores\n",
    "p1 = norm.cdf(z1)\n",
    "p2 = norm.cdf(z2)\n",
    "probabilidad = p2 - p1\n",
    "print(\"Probabilidad de que dure entre 778 y 834 horas:\", probabilidad)\n"
   ]
  },
  {
   "cell_type": "markdown",
   "id": "0cc302db",
   "metadata": {},
   "source": [
    "<!-- Ejemplo 3 -->\n",
    "<div id=ej_3></div>\n",
    "\n",
    "<span style=\"color: #153CEE;\">[3] Porcentaje de resistencias que exceden cierto valor</span>  \n",
    "\n",
    "**Enunciado:**  \n",
    "Cierta máquina fabrica resistencias eléctricas que tienen una resistencia media de 40 ohms y una desviación estándar de 2 ohms. Si se supone que la resistencia sigue una distribución normal y que se puede medir con cualquier grado de precisión, ¿qué porcentaje de resistencias tendrán una resistencia que exceda 43 ohms?\n",
    "\n",
    "---\n",
    "\n",
    "**Solución:**\n",
    "\n",
    "Queremos calcular la probabilidad de que una resistencia exceda los 43 ohms, es decir:\n",
    "\n",
    "$$\n",
    "P(X > 43)\n",
    "$$\n",
    "\n",
    "Primero, transformamos el valor observado \\( x = 43 \\) en su correspondiente valor \\( z \\) utilizando la fórmula:\n",
    "\n",
    "$$\n",
    "z = \\frac{x - \\mu}{\\sigma} = \\frac{43 - 40}{2} = 1.5\n",
    "$$\n",
    "\n",
    "Buscamos el área bajo la curva normal estándar a la derecha de \\( z = 1.5 \\). Esta área se obtiene como:\n",
    "\n",
    "$$\n",
    "P(Z > 1.5) = 1 - P(Z < 1.5)\n",
    "$$\n",
    "\n",
    "Usando la tabla de la distribución normal:\n",
    "\n",
    "$$\n",
    "P(Z < 1.5) = 0.9332\n",
    "$$\n",
    "\n",
    "Entonces:\n",
    "\n",
    "$$\n",
    "P(Z > 1.5) = 1 - 0.9332 = 0.0668\n",
    "$$\n",
    "\n",
    "---\n",
    "\n",
    "✅ **Resultado:**  \n",
    "El **6.68%** de las resistencias tendrán una resistencia que exceda los 43 ohms.\n",
    "\n",
    "[[Menú]](#menu) | [[Anterior]](#ej_2)\n"
   ]
  },
  {
   "cell_type": "markdown",
   "id": "c27df5c8",
   "metadata": {},
   "source": [
    "**Codigo:**"
   ]
  },
  {
   "cell_type": "code",
   "execution_count": 7,
   "id": "db616dab",
   "metadata": {},
   "outputs": [
    {
     "name": "stdout",
     "output_type": "stream",
     "text": [
      "Z = 1.5\n",
      "Probabilidad de que la resistencia sea mayor a 43 ohms: 0.06680720126885809\n"
     ]
    }
   ],
   "source": [
    "from scipy.stats import norm\n",
    "\n",
    "# Datos del ejercicio\n",
    "media = 40\n",
    "desviacion = 2\n",
    "x = 43\n",
    "\n",
    "# Cálculo del valor Z\n",
    "z = (x - media) / desviacion\n",
    "print(\"Z =\", z)\n",
    "\n",
    "# Probabilidad de que X > 43\n",
    "p_menor = norm.cdf(z)\n",
    "p_mayor = 1 - p_menor\n",
    "print(\"Probabilidad de que la resistencia sea mayor a 43 ohms:\", p_mayor)\n"
   ]
  },
  {
   "cell_type": "markdown",
   "id": "fb208d29",
   "metadata": {},
   "source": [
    "---\n",
    "📚 **Fuente de los ejercicios:**  \n",
    "Walpole, R. E., Myers, R. H., Myers, S. L., & Ye, K. (2012). *Probabilidad y estadística para ingeniería y ciencias* (9.ª ed.). Pearson Educación.  \n",
    "Traducción: Leticia Esther Pineda Ayala  \n",
    "Revisión técnica: Roberto Hernández Ramírez y Linda Margarita Medina Herrera\n"
   ]
  }
 ],
 "metadata": {
  "kernelspec": {
   "display_name": "Python 3",
   "language": "python",
   "name": "python3"
  },
  "language_info": {
   "codemirror_mode": {
    "name": "ipython",
    "version": 3
   },
   "file_extension": ".py",
   "mimetype": "text/x-python",
   "name": "python",
   "nbconvert_exporter": "python",
   "pygments_lexer": "ipython3",
   "version": "3.13.1"
  }
 },
 "nbformat": 4,
 "nbformat_minor": 5
}
