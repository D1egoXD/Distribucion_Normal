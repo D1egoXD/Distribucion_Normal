{
 "cells": [
  {
   "cell_type": "code",
   "execution_count": 1,
   "id": "e8045145",
   "metadata": {},
   "outputs": [
    {
     "name": "stdout",
     "output_type": "stream",
     "text": [
      "Librerias Cargadas\n"
     ]
    }
   ],
   "source": [
    "import matplotlib.pyplot as plt\n",
    "from scipy.stats import binom\n",
    "print(\"Librerias Cargadas\")"
   ]
  },
  {
   "cell_type": "markdown",
   "id": "912704cb",
   "metadata": {},
   "source": [
    "<div id=Menu></div>\n",
    "\n",
    "# 📘 Menú de Ejercicios de Distribución Normal.\n",
    "\n",
    "Selecciona un ejercicio para ver su contenido:\n",
    "\n",
    "---\n",
    "\n",
    "- [🔹 Ejercicio 1 - Duración de Productos](#ex_1)\n",
    "- [🔹 Ejercicio 2 - Control de Calidad en Manufactura](#ex_2)\n",
    "- [🔹 Ejercicio 3 - Análisis de Calificaciones Académicas](#ex_3)\n",
    "\n",
    "---\n",
    "\n"
   ]
  },
  {
   "cell_type": "markdown",
   "id": "b6e84f6a",
   "metadata": {},
   "source": [
    "<div id=ex_1></div>\n",
    "\n",
    "[[Menú]](#Menu) | [[Siguiente]](#ex_2)\n",
    "\n",
    "## Ejercicio 1 - Duración de Productos Duración de Productos (Cálculo de probabilidad de un evento simple)\n",
    "\n",
    "**Contexto del Problema:**  \n",
    "Un fabricante de pilas para linternas asegura que la duración de su producto sigue una distribución normal.\n",
    "\n",
    "**Parámetros de la Distribución:**\n",
    "- Duración media (μ) = 80 horas  \n",
    "- Varianza (σ²) = 16  \n",
    "- Desviación típica (σ) = √16 = 4 horas\n",
    "\n",
    "**Pregunta:**  \n",
    "Calcular la probabilidad de que una pila elegida al azar dure más de 90 horas.\n",
    "\n",
    "### Solución:\n",
    "\n",
    "1. **Definir la variable aleatoria:**  \n",
    "   Sea X la duración de la pila en horas. Se establece que `X ∼ N(μ = 80, σ = 4)`.\n",
    "\n",
    "2. **Tipificar el valor:**  \n",
    "   Para `X = 90` horas:  \n",
    "   `Z = (X - μ) / σ = (90 - 80) / 4 = 2.5`\n",
    "\n",
    "3. **Buscar la probabilidad en la tabla Z:**  \n",
    "   Se busca `P(X > 90)`, que equivale a `P(Z > 2.5)`.\n",
    "\n",
    "   Las tablas de distribución normal estándar proporcionan `P(Z ≤ z)`, por lo tanto:  \n",
    "   `P(Z > 2.5) = 1 - P(Z ≤ 2.5)`  \n",
    "   `P(Z ≤ 2.5) ≈ 0.9938`  \n",
    "   `P(X > 90) = 1 - 0.9938 = 0.0062`\n",
    "\n",
    "**Interpretación del Resultado:**  \n",
    "La probabilidad de que una pila dure más de 90 horas es de **0.0062**, o **0.62%**. Es un evento poco común.\n",
    "\n",
    "[[Menú]](#Menu) | [[Siguiente]](#ex_2)\n"
   ]
  },
  {
   "cell_type": "code",
   "execution_count": 5,
   "id": "fa877e63",
   "metadata": {},
   "outputs": [
    {
     "name": "stdout",
     "output_type": "stream",
     "text": [
      "Probabilidad de que una pila dure más de 90 horas: 0.0062\n"
     ]
    }
   ],
   "source": [
    "from scipy.stats import norm\n",
    "\n",
    "# Parámetros de la distribución\n",
    "mu = 80         # media en horas\n",
    "sigma = 4       # desviación estándar\n",
    "x = 90          # duración deseada\n",
    "\n",
    "# Calcular la probabilidad P(X > 90)\n",
    "p_mayor_90 = 1 - norm.cdf(x, mu, sigma)\n",
    "\n",
    "# Resultados\n",
    "print(f\"Probabilidad de que una pila dure más de 90 horas: {p_mayor_90:.4f}\")\n"
   ]
  },
  {
   "cell_type": "markdown",
   "id": "7e251536",
   "metadata": {},
   "source": [
    "<div id=ex_2></div>\n",
    "\n",
    "---\n",
    "## Ejemplo 2: Control de Calidad en Manufactura (Probabilidad dentro de un intervalo de aceptación)\n",
    "\n",
    "**Contexto del Problema:**  \n",
    "Una máquina produce tornillos cuya longitud sigue una distribución normal.\n",
    "\n",
    "**Parámetros de la Distribución:**\n",
    "- Media (μ) = 5 cm  \n",
    "- Desviación típica (σ) = 5 mm = 0.5 cm  \n",
    "- Criterio de descarte: tornillos que se desvíen ±0.6 cm de la media  \n",
    "- Lote: 500 tornillos\n",
    "\n",
    "**Pregunta:**  \n",
    "De un lote de 500 tornillos, ¿cuántos deben ser descartados?\n",
    "\n",
    "### Solución:\n",
    "\n",
    "1. **Intervalo de aceptación:**  \n",
    "   `(μ - 0.6, μ + 0.6) = (4.4 cm, 5.6 cm)`\n",
    "\n",
    "2. **Tipificación de los extremos:**  \n",
    "   - Para X₁ = 4.4: `Z₁ = (4.4 - 5) / 0.5 = -1.2`  \n",
    "   - Para X₂ = 5.6: `Z₂ = (5.6 - 5) / 0.5 = 1.2`\n",
    "\n",
    "3. **Probabilidad de aptitud:**  \n",
    "   `P(4.4 < X < 5.6) = P(-1.2 < Z < 1.2)`  \n",
    "   `P(Z ≤ 1.2) ≈ 0.8849`  \n",
    "   `P(-1.2 < Z < 1.2) = 2 * 0.8849 - 1 = 0.7698`\n",
    "\n",
    "4. **Probabilidad de descarte:**  \n",
    "   `1 - 0.7698 = 0.2302`\n",
    "\n",
    "5. **Cantidad esperada de tornillos descartados:**  \n",
    "   `0.2302 * 500 ≈ 115.1`\n",
    "\n",
    "**Interpretación del Resultado:**  \n",
    "Aproximadamente el **23.02%** de los tornillos serán descartados. En un lote de 500, se espera descartar entre **115 y 116** unidades.\n",
    "\n",
    "[[Anterior]](#ex_1) | [[Menú]](#Menu) | [[Siguiente]](#ex_3)\n"
   ]
  },
  {
   "cell_type": "code",
   "execution_count": 3,
   "id": "4e63a039",
   "metadata": {},
   "outputs": [
    {
     "name": "stdout",
     "output_type": "stream",
     "text": [
      "Probabilidad de aceptación: 0.7699\n",
      "Probabilidad de descarte: 0.2301\n",
      "Tornillos descartados (aproximadamente): 115\n"
     ]
    }
   ],
   "source": [
    "\n",
    "# Parámetros de la distribución\n",
    "mu = 5         # media\n",
    "sigma = 0.5    # desviación estándar\n",
    "limite_inferior = mu - 0.6\n",
    "limite_superior = mu + 0.6\n",
    "\n",
    "# Probabilidad de que un tornillo sea aceptado (dentro del intervalo)\n",
    "p_aceptado = norm.cdf(limite_superior, mu, sigma) - norm.cdf(limite_inferior, mu, sigma)\n",
    "\n",
    "# Probabilidad de descarte\n",
    "p_descartado = 1 - p_aceptado\n",
    "\n",
    "# Lote de tornillos\n",
    "n = 500\n",
    "descartados = p_descartado * n\n",
    "\n",
    "# Resultados\n",
    "print(f\"Probabilidad de aceptación: {p_aceptado:.4f}\")\n",
    "print(f\"Probabilidad de descarte: {p_descartado:.4f}\")\n",
    "print(f\"Tornillos descartados (aproximadamente): {descartados:.0f}\")\n"
   ]
  },
  {
   "cell_type": "markdown",
   "id": "ee55a61f",
   "metadata": {},
   "source": [
    "<div id=ex_3></div>\n",
    "\n",
    "\n",
    "---\n",
    "\n",
    "## Ejemplo 3: Análisis de Calificaciones Académicas (Determinación de notas de corte)\n",
    "\n",
    "**Contexto del Problema:**  \n",
    "Se presentan 2500 aspirantes a una prueba para 300 plazas. Las calificaciones siguen una distribución normal.\n",
    "\n",
    "**Parámetros de la Distribución:**\n",
    "- Media (μ) = 6.5  \n",
    "- Varianza (σ²) = 4 → σ = √4 = 2  \n",
    "- Aspirantes = 2500  \n",
    "- Plazas disponibles = 300\n",
    "\n",
    "**Pregunta:**  \n",
    "Calcular la nota de corte para los admitidos.\n",
    "\n",
    "### Solución:\n",
    "\n",
    "1. **Porcentaje de admitidos:**  \n",
    "   `(300 / 2500) * 100% = 12%`\n",
    "\n",
    "2. **Relación con la distribución normal:**  \n",
    "   `P(X ≥ X_corte) = 0.12` → `P(X < X_corte) = 0.88`\n",
    "\n",
    "3. **Buscar Z para P(Z ≤ z) = 0.88:**  \n",
    "   `Z ≈ 1.175` (interpolando en tabla Z)\n",
    "\n",
    "4. **Despejar X_corte:**  \n",
    "   `X_corte = μ + Z * σ = 6.5 + (1.175 * 2) = 8.85`\n",
    "\n",
    "**Interpretación del Resultado:**  \n",
    "La nota de corte para ser admitido es aproximadamente **8.85**. Solo los que obtengan **≥ 8.85** serán seleccionados.\n",
    "\n",
    "---\n",
    "\n",
    "[[Anterior]](#ex_2) | [[Menú]](#Menu)\n"
   ]
  },
  {
   "cell_type": "code",
   "execution_count": 4,
   "id": "39adf666",
   "metadata": {},
   "outputs": [
    {
     "name": "stdout",
     "output_type": "stream",
     "text": [
      "Z correspondiente al percentil 88%: 1.1750\n",
      "Nota mínima para ser admitido: 8.85\n"
     ]
    }
   ],
   "source": [
    "from scipy.stats import norm\n",
    "\n",
    "# Parámetros\n",
    "mu = 6.5         # media de las calificaciones\n",
    "sigma = 2        # desviación estándar\n",
    "total_aspirantes = 2500\n",
    "plazas = 300\n",
    "\n",
    "# Proporción de admitidos (top 12%)\n",
    "p_superior = plazas / total_aspirantes  # 0.12\n",
    "p_corte = 1 - p_superior                # acumulada inferior: 0.88\n",
    "\n",
    "# Encontrar el Z tal que P(Z ≤ z) = 0.88\n",
    "z_corte = norm.ppf(p_corte)\n",
    "\n",
    "# Convertir Z a calificación\n",
    "nota_corte = mu + z_corte * sigma\n",
    "\n",
    "# Resultados\n",
    "print(f\"Z correspondiente al percentil 88%: {z_corte:.4f}\")\n",
    "print(f\"Nota mínima para ser admitido: {nota_corte:.2f}\")\n"
   ]
  },
  {
   "cell_type": "markdown",
   "id": "d55c95d3",
   "metadata": {},
   "source": [
    "# Referencias\n",
    "\n",
    "### Para los Ejemplos 4.1, 4.2 y 4.3 :\n",
    "\n",
    "- Walpole, R. E., Myers, R. H., Myers, S. L., & Ye, K. (s.f.). *Probabilidad y estadística para ingeniería y ciencias*. [Información de editorial no disponible].\n",
    "\n",
    "- Meyer, P. L. (s.f.). *Probabilidad y aplicaciones estadísticas*. [Información de editorial no disponible].\n",
    "\n",
    "- Spiegel, M. R. (s.f.). *Probabilidad y estadística: Schaums (Serie)*. [Información de editorial no disponible].\n",
    "\n",
    "- solucionarios10.com. (s.f.). [Título específico y fecha de acceso no disponibles]. [Fuente web sin más datos].\n",
    "\n",
    "---\n",
    "\n",
    "### Para el Ejemplo 4.3 :\n",
    "\n",
    "- Meyer, P. L. (s.f.). *Probabilidad y aplicaciones estadísticas*. [Información de editorial no disponible].\n",
    "\n",
    "- Rumsey, D. J. (s.f.). *Estadística para Dummies / Estadística II para Dummies*. [Información de editorial no disponible].\n",
    "\n",
    "- Gonick, L., & Smith, W. (s.f.). *La estadística en cómic*. [Información de editorial no disponible].\n",
    "\n",
    "- PROBLEMAS DE DISTRIBUCIÓN NORMAL Y INTERVALOS DE CONFIANZA. (s.f.). *Matemáticas aplicadas a las CC. Sociales II*. [Autor, editorial y año no disponibles].\n"
   ]
  }
 ],
 "metadata": {
  "kernelspec": {
   "display_name": "Python 3",
   "language": "python",
   "name": "python3"
  },
  "language_info": {
   "codemirror_mode": {
    "name": "ipython",
    "version": 3
   },
   "file_extension": ".py",
   "mimetype": "text/x-python",
   "name": "python",
   "nbconvert_exporter": "python",
   "pygments_lexer": "ipython3",
   "version": "3.13.5"
  }
 },
 "nbformat": 4,
 "nbformat_minor": 5
}
